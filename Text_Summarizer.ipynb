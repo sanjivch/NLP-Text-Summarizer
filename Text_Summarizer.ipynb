{
  "nbformat": 4,
  "nbformat_minor": 0,
  "metadata": {
    "colab": {
      "name": "Text_Summarizer.ipynb",
      "provenance": [],
      "authorship_tag": "ABX9TyNul0IvfIjEoCeE0asAUQpE",
      "include_colab_link": true
    },
    "kernelspec": {
      "name": "python3",
      "display_name": "Python 3"
    },
    "language_info": {
      "name": "python"
    }
  },
  "cells": [
    {
      "cell_type": "markdown",
      "metadata": {
        "id": "view-in-github",
        "colab_type": "text"
      },
      "source": [
        "<a href=\"https://colab.research.google.com/github/sanjivch/NLP-Text-Summarizer/blob/main/Text_Summarizer.ipynb\" target=\"_parent\"><img src=\"https://colab.research.google.com/assets/colab-badge.svg\" alt=\"Open In Colab\"/></a>"
      ]
    },
    {
      "cell_type": "code",
      "source": [
        "!pip install spacy\n"
      ],
      "metadata": {
        "colab": {
          "base_uri": "https://localhost:8080/"
        },
        "id": "WrJJ7oLwtchx",
        "outputId": "4c2242cf-9e67-4e29-f965-57d1fd468469"
      },
      "execution_count": 1,
      "outputs": [
        {
          "output_type": "stream",
          "name": "stdout",
          "text": [
            "Looking in indexes: https://pypi.org/simple, https://us-python.pkg.dev/colab-wheels/public/simple/\n",
            "Requirement already satisfied: spacy in /usr/local/lib/python3.7/dist-packages (3.4.1)\n",
            "Requirement already satisfied: jinja2 in /usr/local/lib/python3.7/dist-packages (from spacy) (2.11.3)\n",
            "Requirement already satisfied: typing-extensions<4.2.0,>=3.7.4 in /usr/local/lib/python3.7/dist-packages (from spacy) (4.1.1)\n",
            "Requirement already satisfied: tqdm<5.0.0,>=4.38.0 in /usr/local/lib/python3.7/dist-packages (from spacy) (4.64.0)\n",
            "Requirement already satisfied: pathy>=0.3.5 in /usr/local/lib/python3.7/dist-packages (from spacy) (0.6.2)\n",
            "Requirement already satisfied: pydantic!=1.8,!=1.8.1,<1.10.0,>=1.7.4 in /usr/local/lib/python3.7/dist-packages (from spacy) (1.9.1)\n",
            "Requirement already satisfied: murmurhash<1.1.0,>=0.28.0 in /usr/local/lib/python3.7/dist-packages (from spacy) (1.0.7)\n",
            "Requirement already satisfied: srsly<3.0.0,>=2.4.3 in /usr/local/lib/python3.7/dist-packages (from spacy) (2.4.4)\n",
            "Requirement already satisfied: catalogue<2.1.0,>=2.0.6 in /usr/local/lib/python3.7/dist-packages (from spacy) (2.0.8)\n",
            "Requirement already satisfied: spacy-loggers<2.0.0,>=1.0.0 in /usr/local/lib/python3.7/dist-packages (from spacy) (1.0.3)\n",
            "Requirement already satisfied: thinc<8.2.0,>=8.1.0 in /usr/local/lib/python3.7/dist-packages (from spacy) (8.1.0)\n",
            "Requirement already satisfied: wasabi<1.1.0,>=0.9.1 in /usr/local/lib/python3.7/dist-packages (from spacy) (0.10.1)\n",
            "Requirement already satisfied: setuptools in /usr/local/lib/python3.7/dist-packages (from spacy) (57.4.0)\n",
            "Requirement already satisfied: cymem<2.1.0,>=2.0.2 in /usr/local/lib/python3.7/dist-packages (from spacy) (2.0.6)\n",
            "Requirement already satisfied: langcodes<4.0.0,>=3.2.0 in /usr/local/lib/python3.7/dist-packages (from spacy) (3.3.0)\n",
            "Requirement already satisfied: preshed<3.1.0,>=3.0.2 in /usr/local/lib/python3.7/dist-packages (from spacy) (3.0.6)\n",
            "Requirement already satisfied: typer<0.5.0,>=0.3.0 in /usr/local/lib/python3.7/dist-packages (from spacy) (0.4.2)\n",
            "Requirement already satisfied: requests<3.0.0,>=2.13.0 in /usr/local/lib/python3.7/dist-packages (from spacy) (2.23.0)\n",
            "Requirement already satisfied: numpy>=1.15.0 in /usr/local/lib/python3.7/dist-packages (from spacy) (1.21.6)\n",
            "Requirement already satisfied: spacy-legacy<3.1.0,>=3.0.9 in /usr/local/lib/python3.7/dist-packages (from spacy) (3.0.9)\n",
            "Requirement already satisfied: packaging>=20.0 in /usr/local/lib/python3.7/dist-packages (from spacy) (21.3)\n",
            "Requirement already satisfied: zipp>=0.5 in /usr/local/lib/python3.7/dist-packages (from catalogue<2.1.0,>=2.0.6->spacy) (3.8.1)\n",
            "Requirement already satisfied: pyparsing!=3.0.5,>=2.0.2 in /usr/local/lib/python3.7/dist-packages (from packaging>=20.0->spacy) (3.0.9)\n",
            "Requirement already satisfied: smart-open<6.0.0,>=5.2.1 in /usr/local/lib/python3.7/dist-packages (from pathy>=0.3.5->spacy) (5.2.1)\n",
            "Requirement already satisfied: idna<3,>=2.5 in /usr/local/lib/python3.7/dist-packages (from requests<3.0.0,>=2.13.0->spacy) (2.10)\n",
            "Requirement already satisfied: chardet<4,>=3.0.2 in /usr/local/lib/python3.7/dist-packages (from requests<3.0.0,>=2.13.0->spacy) (3.0.4)\n",
            "Requirement already satisfied: certifi>=2017.4.17 in /usr/local/lib/python3.7/dist-packages (from requests<3.0.0,>=2.13.0->spacy) (2022.6.15)\n",
            "Requirement already satisfied: urllib3!=1.25.0,!=1.25.1,<1.26,>=1.21.1 in /usr/local/lib/python3.7/dist-packages (from requests<3.0.0,>=2.13.0->spacy) (1.24.3)\n",
            "Requirement already satisfied: blis<0.8.0,>=0.7.8 in /usr/local/lib/python3.7/dist-packages (from thinc<8.2.0,>=8.1.0->spacy) (0.7.8)\n",
            "Requirement already satisfied: click<9.0.0,>=7.1.1 in /usr/local/lib/python3.7/dist-packages (from typer<0.5.0,>=0.3.0->spacy) (7.1.2)\n",
            "Requirement already satisfied: MarkupSafe>=0.23 in /usr/local/lib/python3.7/dist-packages (from jinja2->spacy) (2.0.1)\n"
          ]
        }
      ]
    },
    {
      "cell_type": "code",
      "execution_count": 2,
      "metadata": {
        "id": "M0t6A3vgtG1G"
      },
      "outputs": [],
      "source": [
        "import spacy\n",
        "from spacy.lang.en.stop_words import STOP_WORDS\n",
        "from string import punctuation\n",
        "from collections import Counter\n",
        "from heapq import nlargest"
      ]
    },
    {
      "cell_type": "code",
      "source": [
        "nlp = spacy.load(\"en_core_web_sm\")"
      ],
      "metadata": {
        "id": "cJ27__60uDWw"
      },
      "execution_count": 3,
      "outputs": []
    },
    {
      "cell_type": "code",
      "source": [
        "text = '''Machine learning (ML) is the scientific study of algorithms and statistical models that computer systems use to progressively improve their performance on a specific task. Machine learning algorithms build a mathematical model of sample data, known as “training data”, in order to make predictions or decisions without being explicitly programmed to perform the task. Machine learning algorithms are used in the applications of email filtering, detection of network intruders, and computer vision, where it is infeasible to develop an algorithm of specific instructions for performing the task. Machine learning is closely related to computational statistics, which focuses on making predictions using computers. The study of mathematical optimization delivers methods, theory and application domains to the field of machine learning. Data mining is a field of study within machine learning and focuses on exploratory data analysis through unsupervised learning. In its application across business problems, machine learning is also referred to as predictive analytics.'''"
      ],
      "metadata": {
        "id": "N4yV3w_SuQNT"
      },
      "execution_count": 4,
      "outputs": []
    },
    {
      "cell_type": "code",
      "source": [
        "doc = nlp(text)"
      ],
      "metadata": {
        "id": "MGeiA9pYueaO"
      },
      "execution_count": 5,
      "outputs": []
    },
    {
      "cell_type": "code",
      "source": [
        "list(doc.sents)"
      ],
      "metadata": {
        "colab": {
          "base_uri": "https://localhost:8080/"
        },
        "id": "78YRmx1iugq8",
        "outputId": "487173b9-44e3-47aa-cc35-1499d6624f91"
      },
      "execution_count": 6,
      "outputs": [
        {
          "output_type": "execute_result",
          "data": {
            "text/plain": [
              "[Machine learning (ML) is the scientific study of algorithms and statistical models that computer systems use to progressively improve their performance on a specific task.,\n",
              " Machine learning algorithms build a mathematical model of sample data, known as “training data”, in order to make predictions or decisions without being explicitly programmed to perform the task.,\n",
              " Machine learning algorithms are used in the applications of email filtering, detection of network intruders, and computer vision, where it is infeasible to develop an algorithm of specific instructions for performing the task.,\n",
              " Machine learning is closely related to computational statistics, which focuses on making predictions using computers.,\n",
              " The study of mathematical optimization delivers methods, theory and application domains to the field of machine learning.,\n",
              " Data mining is a field of study within machine learning and focuses on exploratory data analysis through unsupervised learning.,\n",
              " In its application across business problems, machine learning is also referred to as predictive analytics.]"
            ]
          },
          "metadata": {},
          "execution_count": 6
        }
      ]
    },
    {
      "cell_type": "code",
      "source": [
        "keyword = list()\n",
        "stop_words = list(STOP_WORDS)"
      ],
      "metadata": {
        "id": "8vbb0xP4ukg4"
      },
      "execution_count": 7,
      "outputs": []
    },
    {
      "cell_type": "code",
      "source": [
        "pos_tag = ['PROPN', 'ADJ', 'NOUN', 'VERB']"
      ],
      "metadata": {
        "id": "fEM1eSgtzWBQ"
      },
      "execution_count": 8,
      "outputs": []
    },
    {
      "cell_type": "code",
      "source": [
        "for token in doc:\n",
        "  #print(token)\n",
        "  if (token.text in stop_words) or (token.text in punctuation):\n",
        "    continue\n",
        "  if token.pos_ in pos_tag:\n",
        "    keyword.append(token.text)"
      ],
      "metadata": {
        "id": "b3DXqJbEzYCw"
      },
      "execution_count": 9,
      "outputs": []
    },
    {
      "cell_type": "code",
      "source": [
        "len(keyword)"
      ],
      "metadata": {
        "colab": {
          "base_uri": "https://localhost:8080/"
        },
        "id": "KxCDBfaE08Zs",
        "outputId": "588ac811-3051-4f72-e25a-62618db94d10"
      },
      "execution_count": 31,
      "outputs": [
        {
          "output_type": "execute_result",
          "data": {
            "text/plain": [
              "90"
            ]
          },
          "metadata": {},
          "execution_count": 31
        }
      ]
    },
    {
      "cell_type": "code",
      "source": [
        "word_count = []\n",
        "for token in doc:\n",
        "  #print(token)\n",
        "  if (token.text not in punctuation):\n",
        "    word_count.append(token.text)"
      ],
      "metadata": {
        "id": "sKFpURHQ1zkt"
      },
      "execution_count": 32,
      "outputs": []
    },
    {
      "cell_type": "code",
      "source": [
        "len(word_count)"
      ],
      "metadata": {
        "colab": {
          "base_uri": "https://localhost:8080/"
        },
        "id": "O09GC4LO2MuS",
        "outputId": "47f06f3e-aee5-47ca-dc39-1ffaa9a4943e"
      },
      "execution_count": 34,
      "outputs": [
        {
          "output_type": "execute_result",
          "data": {
            "text/plain": [
              "155"
            ]
          },
          "metadata": {},
          "execution_count": 34
        }
      ]
    },
    {
      "cell_type": "code",
      "source": [
        "freq_word = Counter(keyword)"
      ],
      "metadata": {
        "id": "LanbQiRb3jPj"
      },
      "execution_count": 10,
      "outputs": []
    },
    {
      "cell_type": "code",
      "source": [
        "#freq_word.most_common(10)\n",
        "#pickup the max occuring word - which is teh first one in the list of tuples\n",
        "max_freq = freq_word.most_common(1)[0][1]\n",
        "\n",
        "for word in freq_word.keys():\n",
        "  freq_word[word] = freq_word[word]/max_freq\n"
      ],
      "metadata": {
        "id": "hpbG7NJE7bdy"
      },
      "execution_count": 11,
      "outputs": []
    },
    {
      "cell_type": "code",
      "source": [
        "freq_word"
      ],
      "metadata": {
        "colab": {
          "base_uri": "https://localhost:8080/"
        },
        "id": "hkEAFRSJ7uUn",
        "outputId": "eea2f1ef-ee3f-4ace-9a8a-90f33d1eb1c7"
      },
      "execution_count": 12,
      "outputs": [
        {
          "output_type": "execute_result",
          "data": {
            "text/plain": [
              "Counter({'Data': 0.125,\n",
              "         'ML': 0.125,\n",
              "         'Machine': 0.5,\n",
              "         'algorithm': 0.125,\n",
              "         'algorithms': 0.375,\n",
              "         'analysis': 0.125,\n",
              "         'analytics': 0.125,\n",
              "         'application': 0.25,\n",
              "         'applications': 0.125,\n",
              "         'build': 0.125,\n",
              "         'business': 0.125,\n",
              "         'computational': 0.125,\n",
              "         'computer': 0.25,\n",
              "         'computers': 0.125,\n",
              "         'data': 0.375,\n",
              "         'decisions': 0.125,\n",
              "         'delivers': 0.125,\n",
              "         'detection': 0.125,\n",
              "         'develop': 0.125,\n",
              "         'domains': 0.125,\n",
              "         'email': 0.125,\n",
              "         'exploratory': 0.125,\n",
              "         'field': 0.25,\n",
              "         'filtering': 0.125,\n",
              "         'focuses': 0.25,\n",
              "         'improve': 0.125,\n",
              "         'infeasible': 0.125,\n",
              "         'instructions': 0.125,\n",
              "         'intruders': 0.125,\n",
              "         'known': 0.125,\n",
              "         'learning': 1.0,\n",
              "         'machine': 0.375,\n",
              "         'making': 0.125,\n",
              "         'mathematical': 0.25,\n",
              "         'methods': 0.125,\n",
              "         'mining': 0.125,\n",
              "         'model': 0.125,\n",
              "         'models': 0.125,\n",
              "         'network': 0.125,\n",
              "         'optimization': 0.125,\n",
              "         'order': 0.125,\n",
              "         'perform': 0.125,\n",
              "         'performance': 0.125,\n",
              "         'performing': 0.125,\n",
              "         'predictions': 0.25,\n",
              "         'predictive': 0.125,\n",
              "         'problems': 0.125,\n",
              "         'programmed': 0.125,\n",
              "         'referred': 0.125,\n",
              "         'related': 0.125,\n",
              "         'sample': 0.125,\n",
              "         'scientific': 0.125,\n",
              "         'specific': 0.25,\n",
              "         'statistical': 0.125,\n",
              "         'statistics': 0.125,\n",
              "         'study': 0.375,\n",
              "         'systems': 0.125,\n",
              "         'task': 0.375,\n",
              "         'theory': 0.125,\n",
              "         'training': 0.125,\n",
              "         'unsupervised': 0.125,\n",
              "         'use': 0.125,\n",
              "         'vision': 0.125})"
            ]
          },
          "metadata": {},
          "execution_count": 12
        }
      ]
    },
    {
      "cell_type": "code",
      "source": [
        "sentence_strength = dict()"
      ],
      "metadata": {
        "id": "iiPglF2ZD6H-"
      },
      "execution_count": 13,
      "outputs": []
    },
    {
      "cell_type": "code",
      "source": [
        "for sentence in doc.sents:\n",
        "  #print(sentence)\n",
        "  for word in sentence:\n",
        "    #print(word)\n",
        "    if word.text in freq_word.keys():\n",
        "      if sentence in sentence_strength.keys():\n",
        "        sentence_strength[sentence] += freq_word[word.text]\n",
        "      else:\n",
        "        sentence_strength[sentence] = freq_word[word.text]\n",
        "\n"
      ],
      "metadata": {
        "id": "N46cHp9YjuTg"
      },
      "execution_count": 16,
      "outputs": []
    },
    {
      "cell_type": "code",
      "source": [
        "sentence_strength"
      ],
      "metadata": {
        "colab": {
          "base_uri": "https://localhost:8080/"
        },
        "id": "r-NrWY97j02K",
        "outputId": "d1c4ed74-0a6c-4fb6-836c-de1a2f768cda"
      },
      "execution_count": 17,
      "outputs": [
        {
          "output_type": "execute_result",
          "data": {
            "text/plain": [
              "{Machine learning (ML) is the scientific study of algorithms and statistical models that computer systems use to progressively improve their performance on a specific task.: 4.125,\n",
              " Machine learning algorithms build a mathematical model of sample data, known as “training data”, in order to make predictions or decisions without being explicitly programmed to perform the task.: 4.625,\n",
              " Machine learning algorithms are used in the applications of email filtering, detection of network intruders, and computer vision, where it is infeasible to develop an algorithm of specific instructions for performing the task.: 4.25,\n",
              " Machine learning is closely related to computational statistics, which focuses on making predictions using computers.: 2.625,\n",
              " The study of mathematical optimization delivers methods, theory and application domains to the field of machine learning.: 3.125,\n",
              " Data mining is a field of study within machine learning and focuses on exploratory data analysis through unsupervised learning.: 4.25,\n",
              " In its application across business problems, machine learning is also referred to as predictive analytics.: 2.25}"
            ]
          },
          "metadata": {},
          "execution_count": 17
        }
      ]
    },
    {
      "cell_type": "code",
      "source": [
        "summarized_sentences = nlargest(3, sentence_strength, key=sentence_strength.get)"
      ],
      "metadata": {
        "id": "TGvrrG6_k8td"
      },
      "execution_count": 18,
      "outputs": []
    },
    {
      "cell_type": "code",
      "source": [
        "summarized_sentences"
      ],
      "metadata": {
        "colab": {
          "base_uri": "https://localhost:8080/"
        },
        "id": "HnFya4wXlu1J",
        "outputId": "34677d48-ad9e-4ac3-8c58-1f9f44d503e6"
      },
      "execution_count": 19,
      "outputs": [
        {
          "output_type": "execute_result",
          "data": {
            "text/plain": [
              "[Machine learning algorithms build a mathematical model of sample data, known as “training data”, in order to make predictions or decisions without being explicitly programmed to perform the task.,\n",
              " Machine learning algorithms are used in the applications of email filtering, detection of network intruders, and computer vision, where it is infeasible to develop an algorithm of specific instructions for performing the task.,\n",
              " Data mining is a field of study within machine learning and focuses on exploratory data analysis through unsupervised learning.]"
            ]
          },
          "metadata": {},
          "execution_count": 19
        }
      ]
    },
    {
      "cell_type": "code",
      "source": [
        "final_summary = [w.text for w in summarized_sentences]"
      ],
      "metadata": {
        "id": "AIZwhW2Zlx_K"
      },
      "execution_count": 20,
      "outputs": []
    },
    {
      "cell_type": "code",
      "source": [
        "final_summary = ''.join(final_summary)"
      ],
      "metadata": {
        "id": "6DrreFhNmHsm"
      },
      "execution_count": 22,
      "outputs": []
    },
    {
      "cell_type": "code",
      "source": [
        "final_summary"
      ],
      "metadata": {
        "colab": {
          "base_uri": "https://localhost:8080/",
          "height": 87
        },
        "id": "Grw16IZXmJP4",
        "outputId": "ed582e45-be14-4546-9017-b7823aeb93f7"
      },
      "execution_count": 23,
      "outputs": [
        {
          "output_type": "execute_result",
          "data": {
            "text/plain": [
              "'Machine learning algorithms build a mathematical model of sample data, known as “training data”, in order to make predictions or decisions without being explicitly programmed to perform the task.Machine learning algorithms are used in the applications of email filtering, detection of network intruders, and computer vision, where it is infeasible to develop an algorithm of specific instructions for performing the task.Data mining is a field of study within machine learning and focuses on exploratory data analysis through unsupervised learning.'"
            ],
            "application/vnd.google.colaboratory.intrinsic+json": {
              "type": "string"
            }
          },
          "metadata": {},
          "execution_count": 23
        }
      ]
    },
    {
      "cell_type": "code",
      "source": [
        "Counter(([token for token in doc]))"
      ],
      "metadata": {
        "colab": {
          "base_uri": "https://localhost:8080/"
        },
        "id": "GvN8uE31mTBA",
        "outputId": "7ee22505-d7cc-4642-88a8-fb8113660125"
      },
      "execution_count": 28,
      "outputs": [
        {
          "output_type": "execute_result",
          "data": {
            "text/plain": [
              "Counter({Machine: 1,\n",
              "         learning: 1,\n",
              "         (: 1,\n",
              "         ML: 1,\n",
              "         ): 1,\n",
              "         is: 1,\n",
              "         the: 1,\n",
              "         scientific: 1,\n",
              "         study: 1,\n",
              "         of: 1,\n",
              "         algorithms: 1,\n",
              "         and: 1,\n",
              "         statistical: 1,\n",
              "         models: 1,\n",
              "         that: 1,\n",
              "         computer: 1,\n",
              "         systems: 1,\n",
              "         use: 1,\n",
              "         to: 1,\n",
              "         progressively: 1,\n",
              "         improve: 1,\n",
              "         their: 1,\n",
              "         performance: 1,\n",
              "         on: 1,\n",
              "         a: 1,\n",
              "         specific: 1,\n",
              "         task: 1,\n",
              "         .: 1,\n",
              "         Machine: 1,\n",
              "         learning: 1,\n",
              "         algorithms: 1,\n",
              "         build: 1,\n",
              "         a: 1,\n",
              "         mathematical: 1,\n",
              "         model: 1,\n",
              "         of: 1,\n",
              "         sample: 1,\n",
              "         data: 1,\n",
              "         ,: 1,\n",
              "         known: 1,\n",
              "         as: 1,\n",
              "         “: 1,\n",
              "         training: 1,\n",
              "         data: 1,\n",
              "         ”: 1,\n",
              "         ,: 1,\n",
              "         in: 1,\n",
              "         order: 1,\n",
              "         to: 1,\n",
              "         make: 1,\n",
              "         predictions: 1,\n",
              "         or: 1,\n",
              "         decisions: 1,\n",
              "         without: 1,\n",
              "         being: 1,\n",
              "         explicitly: 1,\n",
              "         programmed: 1,\n",
              "         to: 1,\n",
              "         perform: 1,\n",
              "         the: 1,\n",
              "         task: 1,\n",
              "         .: 1,\n",
              "         Machine: 1,\n",
              "         learning: 1,\n",
              "         algorithms: 1,\n",
              "         are: 1,\n",
              "         used: 1,\n",
              "         in: 1,\n",
              "         the: 1,\n",
              "         applications: 1,\n",
              "         of: 1,\n",
              "         email: 1,\n",
              "         filtering: 1,\n",
              "         ,: 1,\n",
              "         detection: 1,\n",
              "         of: 1,\n",
              "         network: 1,\n",
              "         intruders: 1,\n",
              "         ,: 1,\n",
              "         and: 1,\n",
              "         computer: 1,\n",
              "         vision: 1,\n",
              "         ,: 1,\n",
              "         where: 1,\n",
              "         it: 1,\n",
              "         is: 1,\n",
              "         infeasible: 1,\n",
              "         to: 1,\n",
              "         develop: 1,\n",
              "         an: 1,\n",
              "         algorithm: 1,\n",
              "         of: 1,\n",
              "         specific: 1,\n",
              "         instructions: 1,\n",
              "         for: 1,\n",
              "         performing: 1,\n",
              "         the: 1,\n",
              "         task: 1,\n",
              "         .: 1,\n",
              "         Machine: 1,\n",
              "         learning: 1,\n",
              "         is: 1,\n",
              "         closely: 1,\n",
              "         related: 1,\n",
              "         to: 1,\n",
              "         computational: 1,\n",
              "         statistics: 1,\n",
              "         ,: 1,\n",
              "         which: 1,\n",
              "         focuses: 1,\n",
              "         on: 1,\n",
              "         making: 1,\n",
              "         predictions: 1,\n",
              "         using: 1,\n",
              "         computers: 1,\n",
              "         .: 1,\n",
              "         The: 1,\n",
              "         study: 1,\n",
              "         of: 1,\n",
              "         mathematical: 1,\n",
              "         optimization: 1,\n",
              "         delivers: 1,\n",
              "         methods: 1,\n",
              "         ,: 1,\n",
              "         theory: 1,\n",
              "         and: 1,\n",
              "         application: 1,\n",
              "         domains: 1,\n",
              "         to: 1,\n",
              "         the: 1,\n",
              "         field: 1,\n",
              "         of: 1,\n",
              "         machine: 1,\n",
              "         learning: 1,\n",
              "         .: 1,\n",
              "         Data: 1,\n",
              "         mining: 1,\n",
              "         is: 1,\n",
              "         a: 1,\n",
              "         field: 1,\n",
              "         of: 1,\n",
              "         study: 1,\n",
              "         within: 1,\n",
              "         machine: 1,\n",
              "         learning: 1,\n",
              "         and: 1,\n",
              "         focuses: 1,\n",
              "         on: 1,\n",
              "         exploratory: 1,\n",
              "         data: 1,\n",
              "         analysis: 1,\n",
              "         through: 1,\n",
              "         unsupervised: 1,\n",
              "         learning: 1,\n",
              "         .: 1,\n",
              "         In: 1,\n",
              "         its: 1,\n",
              "         application: 1,\n",
              "         across: 1,\n",
              "         business: 1,\n",
              "         problems: 1,\n",
              "         ,: 1,\n",
              "         machine: 1,\n",
              "         learning: 1,\n",
              "         is: 1,\n",
              "         also: 1,\n",
              "         referred: 1,\n",
              "         to: 1,\n",
              "         as: 1,\n",
              "         predictive: 1,\n",
              "         analytics: 1,\n",
              "         .: 1})"
            ]
          },
          "metadata": {},
          "execution_count": 28
        }
      ]
    },
    {
      "cell_type": "code",
      "source": [
        "for x in doc:\n",
        "  print(x)"
      ],
      "metadata": {
        "colab": {
          "base_uri": "https://localhost:8080/"
        },
        "id": "TNs8sEoqzxZr",
        "outputId": "45256d8f-0d53-46c1-ea3d-bcab5c16345f"
      },
      "execution_count": 29,
      "outputs": [
        {
          "output_type": "stream",
          "name": "stdout",
          "text": [
            "Machine\n",
            "learning\n",
            "(\n",
            "ML\n",
            ")\n",
            "is\n",
            "the\n",
            "scientific\n",
            "study\n",
            "of\n",
            "algorithms\n",
            "and\n",
            "statistical\n",
            "models\n",
            "that\n",
            "computer\n",
            "systems\n",
            "use\n",
            "to\n",
            "progressively\n",
            "improve\n",
            "their\n",
            "performance\n",
            "on\n",
            "a\n",
            "specific\n",
            "task\n",
            ".\n",
            "Machine\n",
            "learning\n",
            "algorithms\n",
            "build\n",
            "a\n",
            "mathematical\n",
            "model\n",
            "of\n",
            "sample\n",
            "data\n",
            ",\n",
            "known\n",
            "as\n",
            "“\n",
            "training\n",
            "data\n",
            "”\n",
            ",\n",
            "in\n",
            "order\n",
            "to\n",
            "make\n",
            "predictions\n",
            "or\n",
            "decisions\n",
            "without\n",
            "being\n",
            "explicitly\n",
            "programmed\n",
            "to\n",
            "perform\n",
            "the\n",
            "task\n",
            ".\n",
            "Machine\n",
            "learning\n",
            "algorithms\n",
            "are\n",
            "used\n",
            "in\n",
            "the\n",
            "applications\n",
            "of\n",
            "email\n",
            "filtering\n",
            ",\n",
            "detection\n",
            "of\n",
            "network\n",
            "intruders\n",
            ",\n",
            "and\n",
            "computer\n",
            "vision\n",
            ",\n",
            "where\n",
            "it\n",
            "is\n",
            "infeasible\n",
            "to\n",
            "develop\n",
            "an\n",
            "algorithm\n",
            "of\n",
            "specific\n",
            "instructions\n",
            "for\n",
            "performing\n",
            "the\n",
            "task\n",
            ".\n",
            "Machine\n",
            "learning\n",
            "is\n",
            "closely\n",
            "related\n",
            "to\n",
            "computational\n",
            "statistics\n",
            ",\n",
            "which\n",
            "focuses\n",
            "on\n",
            "making\n",
            "predictions\n",
            "using\n",
            "computers\n",
            ".\n",
            "The\n",
            "study\n",
            "of\n",
            "mathematical\n",
            "optimization\n",
            "delivers\n",
            "methods\n",
            ",\n",
            "theory\n",
            "and\n",
            "application\n",
            "domains\n",
            "to\n",
            "the\n",
            "field\n",
            "of\n",
            "machine\n",
            "learning\n",
            ".\n",
            "Data\n",
            "mining\n",
            "is\n",
            "a\n",
            "field\n",
            "of\n",
            "study\n",
            "within\n",
            "machine\n",
            "learning\n",
            "and\n",
            "focuses\n",
            "on\n",
            "exploratory\n",
            "data\n",
            "analysis\n",
            "through\n",
            "unsupervised\n",
            "learning\n",
            ".\n",
            "In\n",
            "its\n",
            "application\n",
            "across\n",
            "business\n",
            "problems\n",
            ",\n",
            "machine\n",
            "learning\n",
            "is\n",
            "also\n",
            "referred\n",
            "to\n",
            "as\n",
            "predictive\n",
            "analytics\n",
            ".\n"
          ]
        }
      ]
    },
    {
      "cell_type": "code",
      "source": [
        ""
      ],
      "metadata": {
        "id": "lBpaXVuG0vwE"
      },
      "execution_count": null,
      "outputs": []
    }
  ]
}